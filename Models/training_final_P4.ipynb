{
 "cells": [
  {
   "cell_type": "code",
   "execution_count": 3,
   "metadata": {},
   "outputs": [],
   "source": [
    "import numpy as np\n",
    "import pandas as pd\n",
    "import csv\n",
    "import matplotlib.pyplot as plt\n",
    "import pickle\n",
    "%matplotlib inline\n",
    "from sklearn.linear_model import LinearRegression"
   ]
  },
  {
   "cell_type": "code",
   "execution_count": 9,
   "metadata": {},
   "outputs": [],
   "source": [
    "ds = pd.read_csv('./movies_prerelease.csv')"
   ]
  },
  {
   "cell_type": "code",
   "execution_count": 10,
   "metadata": {},
   "outputs": [],
   "source": [
    "ds['Target'] = ds['Target'].map({1:1, 2:1, 3:1, 4:2, 5:3, 6:3}).astype(int)\n",
    "data = ds.drop(columns=['Movie', 'Rating', 'Votes', 'rat_(0, 2]', 'rat_(2, 4]', 'rat_(4, 6]',  'rat_(6, 8]', 'rat_(8, 10]'])"
   ]
  },
  {
   "cell_type": "code",
   "execution_count": 11,
   "metadata": {},
   "outputs": [
    {
     "name": "stdout",
     "output_type": "stream",
     "text": [
      "(929, 1796) (929,)\n",
      "(57, 1796) (57,)\n"
     ]
    }
   ],
   "source": [
    "## yearwise split\n",
    "X_full = data.drop(columns=['Target', 'BoxOffice', 'Year']).values\n",
    "Y_full = data.Target.values\n",
    "\n",
    "X_train = data[data.Year != 2018].drop(columns=['Target', 'BoxOffice', 'Year']).values\n",
    "Y_train = data[data.Year != 2018].Target.values\n",
    "\n",
    "X_test = data[data.Year == 2018].drop(columns=['Target', 'BoxOffice', 'Year']).values\n",
    "Y_test = data[data.Year == 2018].Target.values\n",
    "\n",
    "print (X_train.shape, Y_train.shape)\n",
    "print (X_test.shape, Y_test.shape)"
   ]
  },
  {
   "cell_type": "code",
   "execution_count": 12,
   "metadata": {},
   "outputs": [],
   "source": [
    "loaded_model = pickle.load(open('year_svm.pkl', 'rb'))\n",
    "type(loaded_model)\n",
    "result_svm = loaded_model.predict(X_full)\n",
    "\n",
    "loaded_model = pickle.load(open('year_naivebayes.pkl', 'rb'))\n",
    "type(loaded_model)\n",
    "result_naivebayes = loaded_model.predict(X_full)\n",
    "\n",
    "loaded_model = pickle.load(open('year_knn.pkl', 'rb'))\n",
    "type(loaded_model)\n",
    "result_knn = loaded_model.predict(X_full)\n",
    "\n",
    "loaded_model = pickle.load(open('year_logreg.pkl', 'rb'))\n",
    "type(loaded_model)\n",
    "result_logreg = loaded_model.predict(X_full)\n",
    "\n",
    "loaded_model = pickle.load(open('year_randfor.pkl', 'rb'))\n",
    "type(loaded_model)\n",
    "result_randfor = loaded_model.predict(X_full)\n",
    "\n",
    "loaded_model = pickle.load(open('year_randfor2.pkl', 'rb'))\n",
    "type(loaded_model)\n",
    "result_randfor2 = loaded_model.predict(X_full)\n",
    "\n",
    "loaded_model = pickle.load(open('year_dt.pkl', 'rb'))\n",
    "type(loaded_model)\n",
    "result_dt = loaded_model.predict(X_full)"
   ]
  },
  {
   "cell_type": "code",
   "execution_count": null,
   "metadata": {},
   "outputs": [],
   "source": []
  },
  {
   "cell_type": "code",
   "execution_count": 14,
   "metadata": {},
   "outputs": [],
   "source": [
    "data3 = pd.DataFrame({'BoxOffice': ds.BoxOffice,\n",
    "                   'Budget': ds.Budget,\n",
    "                   'Year': ds.Year,\n",
    "                   'M1': result_svm,\n",
    "                   'M2': result_naivebayes,\n",
    "                   'M3': result_knn,\n",
    "                   'M4': result_logreg,\n",
    "                   'M5': result_dt,\n",
    "                   })"
   ]
  },
  {
   "cell_type": "code",
   "execution_count": 15,
   "metadata": {},
   "outputs": [
    {
     "name": "stdout",
     "output_type": "stream",
     "text": [
      "(929, 6) (929,)\n",
      "(57, 6) (57,)\n"
     ]
    }
   ],
   "source": [
    "## yearwise split\n",
    "X_train3 = data3[data3.Year != 2018].drop(columns=['BoxOffice', 'Year']).values\n",
    "Y_train3 = data3[data3.Year != 2018].BoxOffice.values + 26\n",
    "\n",
    "X_test3 = data3[data3.Year == 2018].drop(columns=['BoxOffice', 'Year']).values\n",
    "Y_test3 = data3[data3.Year == 2018].BoxOffice.values + 26\n",
    "\n",
    "print (X_train3.shape, Y_train3.shape)\n",
    "print (X_test3.shape, Y_test3.shape)"
   ]
  },
  {
   "cell_type": "code",
   "execution_count": 16,
   "metadata": {},
   "outputs": [
    {
     "data": {
      "text/plain": [
       "LinearRegression(copy_X=True, fit_intercept=True, n_jobs=1, normalize=False)"
      ]
     },
     "execution_count": 16,
     "metadata": {},
     "output_type": "execute_result"
    }
   ],
   "source": [
    "lm2 = LinearRegression()\n",
    "lm2.fit(X_train3, Y_train3)"
   ]
  },
  {
   "cell_type": "code",
   "execution_count": 22,
   "metadata": {},
   "outputs": [
    {
     "name": "stdout",
     "output_type": "stream",
     "text": [
      "0.6726736637389532\n",
      "[ 1.37861687  7.28425306 -1.07900928  0.36731349  0.95737867 13.13869626]\n"
     ]
    }
   ],
   "source": [
    "print(lm2.score(X_test3, Y_test3))\n",
    "print(lm2.coef_)"
   ]
  },
  {
   "cell_type": "code",
   "execution_count": 23,
   "metadata": {},
   "outputs": [
    {
     "name": "stdout",
     "output_type": "stream",
     "text": [
      "(57,)\n",
      "118.70033191213986 63.0 [50.  3.  3.  1.  3.  3.] 10.0\n",
      "58.05529296171118 52.0 [30.  2.  2.  2.  2.  1.] 6.0\n",
      "112.86240161909245 105.0 [50.  2.  2.  2.  3.  3.] 10.0\n",
      "71.0962138270298 153.0 [25.  3.  3.  1.  3.  2.] 6.0\n",
      "20.195785813975043 29.5 [8. 1. 1. 1. 1. 1.] 2.0\n",
      "36.394805987564 32.5 [20.  1.  2.  3.  1.  1.] 5.0\n",
      "104.91416318379635 107.0 [40.  3.  3.  1.  3.  3.] 9.0\n",
      "62.191143580214224 76.0 [33.  2.  2.  2.  2.  1.] 7.0\n",
      "17.738159660576137 30.0 [7. 1. 2. 1. 1. 1.] 2.0\n",
      "188.36580253399873 368.0 [100.   3.   3.   3.   3.   3.] 19.0\n",
      "78.36723256415578 92.0 [45.  2.  2.  1.  2.  1.] 9.0\n",
      "74.74418125353642 149.8 [37.  3.  1.  1.  1.  1.] 7.0\n",
      "146.68415581431208 201.0 [100.   1.   2.   3.   1.   1.] 18.0\n",
      "20.795000998514638 27.75 [10.  1.  3.  1.  1.  1.] 3.0\n",
      "152.46467882538835 131.0 [90.  2.  3.  1.  2.  2.] 17.0\n",
      "325.15910141975286 328.0 [215.   2.   3.   2.   2.   2.] 38.0\n",
      "62.153507183545166 100.0 [40.  1.  3.  1.  1.  1.] 8.0\n",
      "32.603337669484205 28.0 [17.  1.  1.  1.  1.  1.] 4.0\n",
      "42.55326337159446 34.0 [25.  1.  2.  1.  1.  1.] 5.0\n",
      "22.241323769149837 29.0 [10.  1.  2.  2.  1.  1.] 3.0\n",
      "29.846103923815505 29.75 [15.  1.  1.  1.  1.  1.] 3.0\n",
      "79.3713976354351 134.9 [40.  3.  3.  3.  3.  1.] 9.0\n",
      "70.12560082828148 107.0 [45.  1.  2.  1.  1.  1.] 8.0\n",
      "78.09769447301781 106.5 [50.  1.  1.  1.  1.  1.] 9.0\n",
      "64.70269444418511 30.3 [35.  2.  1.  1.  1.  1.] 7.0\n",
      "41.474254091029906 78.0 [25.  1.  3.  1.  1.  1.] 5.0\n",
      "47.663209560245015 61.0 [17.  3.  3.  3.  3.  1.] 5.0\n",
      "31.22765650737678 26.86 [7. 3. 3. 1. 1. 1.] 3.0\n",
      "42.55326337159446 32.95 [25.  1.  2.  1.  1.  1.] 5.0\n",
      "64.31152574467427 129.1 [40.  1.  1.  1.  1.  1.] 8.0\n",
      "24.631244024747893 27.0 [12.  1.  2.  1.  1.  1.] 3.0\n",
      "35.660179007422705 45.2 [20.  1.  2.  1.  1.  1.] 4.0\n",
      "62.82799516142287 43.0 [28.  3.  3.  3.  3.  1.] 7.0\n",
      "36.739188287987254 46.35 [20.  1.  1.  1.  1.  1.] 4.0\n",
      "112.93042978394723 191.0 [75.  1.  1.  2.  1.  1.] 14.0\n",
      "65.58522890709159 54.9 [30.  3.  3.  3.  3.  1.] 7.0\n",
      "45.31049711726316 37.2 [27.  1.  2.  1.  1.  1.] 6.0\n",
      "38.117805160821604 72.0 [21.  1.  1.  1.  1.  1.] 4.0\n",
      "36.739188287987254 72.2 [20.  1.  1.  1.  1.  1.] 4.0\n",
      "34.67273083409919 33.2 [14.  2.  2.  1.  1.  1.] 4.0\n",
      "49.44634773576622 35.6 [30.  1.  2.  1.  1.  1.] 6.0\n",
      "18.817168941140693 26.34 [7. 1. 1. 1. 1. 1.] 2.0\n",
      "13.302701449803287 27.0 [3. 1. 1. 1. 1. 1.] 1.0\n",
      "34.81770260613744 47.1 [18.  1.  2.  1.  3.  1.] 4.0\n",
      "50.77103989802858 46.2 [30.  1.  2.  2.  2.  1.] 6.0\n",
      "62.773319599744134 50.0 [20.  1.  3.  1.  3.  3.] 5.0\n",
      "123.6786589319282 54.0 [55.  3.  3.  1.  1.  3.] 11.0\n",
      "66.66423818765614 58.0 [30.  3.  2.  3.  3.  1.] 7.0\n",
      "50.525357016330766 28.4 [30.  1.  1.  1.  1.  1.] 6.0\n",
      "101.12966000851492 33.7 [55.  3.  2.  3.  3.  1.] 11.0\n",
      "42.49312436933088 27.0 [13.  3.  2.  1.  3.  1.] 4.0\n",
      "25.71025330531245 27.5 [12.  1.  1.  1.  1.  1.] 3.0\n",
      "37.008726379125264 42.0 [15.  2.  2.  1.  2.  1.] 4.0\n",
      "44.02344135166985 29.0 [20.  2.  1.  1.  1.  1.] 4.0\n",
      "20.795000998514638 29.9 [10.  1.  3.  1.  1.  1.] 3.0\n",
      "18.03776725284594 26.6 [8. 1. 3. 1. 1. 1.] 2.0\n",
      "31.194651295518064 30.0 [10.  2.  1.  1.  2.  1.] 3.0\n"
     ]
    }
   ],
   "source": [
    "y_pred3 = lm2.predict(X_test3)\n",
    "print(y_pred3.shape)\n",
    "for i in range(y_pred3.shape[0]):\n",
    "    print(y_pred3[i], Y_test3[i], X_test3[i], np.round(np.average(X_test3[i])))"
   ]
  },
  {
   "cell_type": "code",
   "execution_count": 24,
   "metadata": {},
   "outputs": [
    {
     "data": {
      "text/plain": [
       "<matplotlib.legend.Legend at 0x90aef536d8>"
      ]
     },
     "execution_count": 24,
     "metadata": {},
     "output_type": "execute_result"
    },
    {
     "data": {
      "image/png": "[encoded data removed]",
      "text/plain": [
       "<Figure size 432x288 with 1 Axes>"
      ]
     },
     "metadata": {},
     "output_type": "display_data"
    }
   ],
   "source": [
    "pickle.dump(lm2, open('year_lm2.pkl', 'wb'))\n",
    "\n",
    "y = range(y_pred3.shape[0])\n",
    "plt.scatter(y, y_pred3, c='b', marker='+')\n",
    "plt.scatter(y, Y_test3, c='r', marker='.')\n",
    "labels = ['y_pred', 'y_test']\n",
    "plt.legend(labels)"
   ]
  },
  {
   "cell_type": "code",
   "execution_count": 21,
   "metadata": {},
   "outputs": [
    {
     "name": "stdout",
     "output_type": "stream",
     "text": [
      "[118.70033191]\n"
     ]
    }
   ],
   "source": [
    "loaded_model = pickle.load(open('year_lm2.pkl', 'rb'))\n",
    "type(loaded_model)\n",
    "a=np.zeros((6,))\n",
    "a[0]=50\n",
    "a[1]=3\n",
    "a[2]=3\n",
    "a[3]=1\n",
    "a[4]=3\n",
    "a[5]=3\n",
    "b = np.reshape(a, (-1, 6))\n",
    "print(loaded_model.predict(b))"
   ]
  },
  {
   "cell_type": "code",
   "execution_count": null,
   "metadata": {},
   "outputs": [],
   "source": []
  }
 ],
 "metadata": {
  "kernelspec": {
   "display_name": "Python 3",
   "language": "python",
   "name": "python3"
  },
  "language_info": {
   "codemirror_mode": {
    "name": "ipython",
    "version": 3
   },
   "file_extension": ".py",
   "mimetype": "text/x-python",
   "name": "python",
   "nbconvert_exporter": "python",
   "pygments_lexer": "ipython3",
   "version": "3.6.4"
  }
 },
 "nbformat": 4,
 "nbformat_minor": 2
}
